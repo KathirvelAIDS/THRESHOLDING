{
 "cells": [
  {
   "cell_type": "code",
   "execution_count": 4,
   "id": "900f9aa4",
   "metadata": {},
   "outputs": [],
   "source": [
    "# Load the necessary packages\n",
    "import cv2\n",
    "# Read the Image , show it and convert to grayscale , show it\n",
    "img = cv2.imread('be.jpg',-1)\n",
    "cv2.imshow('original_image',img)\n",
    "cv2.waitKey(0)\n",
    "cv2.destroyAllWindows\n",
    "gray =cv2.cvtColor(img,cv2.COLOR_BGR2GRAY)\n",
    "cv2.imshow('gray_image',gray)\n",
    "cv2.waitKey(0)\n",
    "cv2.destroyAllWindows\n",
    "# Use Global thresholding to segment the image\n",
    "ret,thresh_img1=cv2.threshold(gray,86,255,cv2.THRESH_BINARY)\n",
    "ret,thresh_img2=cv2.threshold(gray,86,255,cv2.THRESH_BINARY_INV)\n",
    "ret,thresh_img3=cv2.threshold(gray,86,255,cv2.THRESH_TOZERO)\n",
    "ret,thresh_img4=cv2.threshold(gray,86,255,cv2.THRESH_TOZERO_INV)\n",
    "ret,thresh_img5=cv2.threshold(gray,100,255,cv2.THRESH_TRUNC)\n",
    "# Use Adaptive thresholding to segment the image\n",
    "thresh_img6=cv2.adaptiveThreshold(gray,255,cv2.ADAPTIVE_THRESH_MEAN_C,cv2.THRESH_BINARY,11,2)\n",
    "thresh_img7=cv2.adaptiveThreshold(gray,255,cv2.ADAPTIVE_THRESH_GAUSSIAN_C,cv2.THRESH_BINARY,11,2)\n",
    "# Use Otsu's method to segment the image\n",
    "ret,thresh_img8=cv2.threshold(gray,0,255,cv2.THRESH_BINARY+cv2.THRESH_OTSU)\n",
    "# Display the results\n",
    "image =[thresh_img1,thresh_img2,thresh_img3,thresh_img4,thresh_img5,thresh_img6,thresh_img7,thresh_img8]\n",
    "for i in range(0,8):\n",
    " cv2.imshow('thgreshold_image',image[i])\n",
    " cv2.waitKey(0)\n",
    " cv2.destroyAllWindows\n"
   ]
  },
  {
   "cell_type": "code",
   "execution_count": null,
   "id": "d56e7842",
   "metadata": {},
   "outputs": [],
   "source": []
  }
 ],
 "metadata": {
  "kernelspec": {
   "display_name": "Python 3",
   "language": "python",
   "name": "python3"
  },
  "language_info": {
   "codemirror_mode": {
    "name": "ipython",
    "version": 3
   },
   "file_extension": ".py",
   "mimetype": "text/x-python",
   "name": "python",
   "nbconvert_exporter": "python",
   "pygments_lexer": "ipython3",
   "version": "3.8.8"
  }
 },
 "nbformat": 4,
 "nbformat_minor": 5
}
